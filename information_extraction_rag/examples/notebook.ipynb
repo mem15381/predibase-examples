{
 "cells": [
  {
   "cell_type": "markdown",
   "id": "a9259bff",
   "metadata": {},
   "source": [
    "# What this notebook is for\n",
    "- Information extraction: transforming unstructured documents into structured tables (slow, comprehensive)\n",
    "- Retrieval-augmented generations: answering questions over a corpus of unstructured documents (fast, less comprehensive)"
   ]
  },
  {
   "cell_type": "markdown",
   "id": "7c9226f9",
   "metadata": {},
   "source": [
    "# Load data"
   ]
  },
  {
   "cell_type": "markdown",
   "id": "da366655",
   "metadata": {},
   "source": [
    "Data must have 3 columns:\n",
    "- `document_id`: identifier for a document. Has to be unique.\n",
    "- `document_name`: make sure it's unique\n",
    "- `document_text`: contains the actual text of the document"
   ]
  },
  {
   "cell_type": "code",
   "execution_count": 1,
   "id": "33627431",
   "metadata": {
    "scrolled": false
   },
   "outputs": [
    {
     "data": {
      "text/html": [
       "<div>\n",
       "<style scoped>\n",
       "    .dataframe tbody tr th:only-of-type {\n",
       "        vertical-align: middle;\n",
       "    }\n",
       "\n",
       "    .dataframe tbody tr th {\n",
       "        vertical-align: top;\n",
       "    }\n",
       "\n",
       "    .dataframe thead th {\n",
       "        text-align: right;\n",
       "    }\n",
       "</style>\n",
       "<table border=\"1\" class=\"dataframe\">\n",
       "  <thead>\n",
       "    <tr style=\"text-align: right;\">\n",
       "      <th></th>\n",
       "      <th>Unnamed: 0</th>\n",
       "      <th>document_text</th>\n",
       "      <th>document_id</th>\n",
       "      <th>document_name</th>\n",
       "    </tr>\n",
       "  </thead>\n",
       "  <tbody>\n",
       "    <tr>\n",
       "      <th>0</th>\n",
       "      <td>0</td>\n",
       "      <td>Title: Best Western Plus Hotel\\nReview text: T...</td>\n",
       "      <td>AWE2FvX5RxPSIh2RscTK</td>\n",
       "      <td>Best Western Plus Hotel AWE2FvX5RxPSIh2RscTK</td>\n",
       "    </tr>\n",
       "    <tr>\n",
       "      <th>1</th>\n",
       "      <td>1</td>\n",
       "      <td>Title: Clean rooms at solid rates in the heart...</td>\n",
       "      <td>AVwcj_OhkufWRAb5wi9T</td>\n",
       "      <td>Clean rooms at solid rates in the heart of Car...</td>\n",
       "    </tr>\n",
       "    <tr>\n",
       "      <th>2</th>\n",
       "      <td>2</td>\n",
       "      <td>Title: Business\\nReview text: Parking was horr...</td>\n",
       "      <td>AVwcj_OhkufWRAb5wi9T</td>\n",
       "      <td>Business AVwcj_OhkufWRAb5wi9T</td>\n",
       "    </tr>\n",
       "    <tr>\n",
       "      <th>3</th>\n",
       "      <td>3</td>\n",
       "      <td>Title: Very good\\nReview text: Not cheap but e...</td>\n",
       "      <td>AVwcj_OhkufWRAb5wi9T</td>\n",
       "      <td>Very good AVwcj_OhkufWRAb5wi9T</td>\n",
       "    </tr>\n",
       "    <tr>\n",
       "      <th>4</th>\n",
       "      <td>4</td>\n",
       "      <td>Title: Low chance to come back here\\nReview te...</td>\n",
       "      <td>AVwcj_OhkufWRAb5wi9T</td>\n",
       "      <td>Low chance to come back here AVwcj_OhkufWRAb5wi9T</td>\n",
       "    </tr>\n",
       "    <tr>\n",
       "      <th>...</th>\n",
       "      <td>...</td>\n",
       "      <td>...</td>\n",
       "      <td>...</td>\n",
       "      <td>...</td>\n",
       "    </tr>\n",
       "    <tr>\n",
       "      <th>9995</th>\n",
       "      <td>9995</td>\n",
       "      <td>Title: Very accommodating and friendly staff!\\...</td>\n",
       "      <td>AVwdatg0ByjofQCxo5S5</td>\n",
       "      <td>Very accommodating and friendly staff! AVwdatg...</td>\n",
       "    </tr>\n",
       "    <tr>\n",
       "      <th>9996</th>\n",
       "      <td>9996</td>\n",
       "      <td>Title: comfortable, friendly, clean, professio...</td>\n",
       "      <td>AVwdatg0ByjofQCxo5S5</td>\n",
       "      <td>comfortable, friendly, clean, professional AVw...</td>\n",
       "    </tr>\n",
       "    <tr>\n",
       "      <th>9997</th>\n",
       "      <td>9997</td>\n",
       "      <td>Title: Great location\\nReview text: This Hampt...</td>\n",
       "      <td>AVwdatg0ByjofQCxo5S5</td>\n",
       "      <td>Great location AVwdatg0ByjofQCxo5S5</td>\n",
       "    </tr>\n",
       "    <tr>\n",
       "      <th>9998</th>\n",
       "      <td>9998</td>\n",
       "      <td>Title: Great Atmosphere!\\nReview text: Awesome...</td>\n",
       "      <td>AV1thTgM3-Khe5l_OvT5</td>\n",
       "      <td>Great Atmosphere! AV1thTgM3-Khe5l_OvT5</td>\n",
       "    </tr>\n",
       "    <tr>\n",
       "      <th>9999</th>\n",
       "      <td>9999</td>\n",
       "      <td>Title: Health care appointments\\nReview text: ...</td>\n",
       "      <td>AV1tg9C7a4HuVbed8XA5</td>\n",
       "      <td>Health care appointments AV1tg9C7a4HuVbed8XA5</td>\n",
       "    </tr>\n",
       "  </tbody>\n",
       "</table>\n",
       "<p>10000 rows × 4 columns</p>\n",
       "</div>"
      ],
      "text/plain": [
       "      Unnamed: 0                                      document_text  \\\n",
       "0              0  Title: Best Western Plus Hotel\\nReview text: T...   \n",
       "1              1  Title: Clean rooms at solid rates in the heart...   \n",
       "2              2  Title: Business\\nReview text: Parking was horr...   \n",
       "3              3  Title: Very good\\nReview text: Not cheap but e...   \n",
       "4              4  Title: Low chance to come back here\\nReview te...   \n",
       "...          ...                                                ...   \n",
       "9995        9995  Title: Very accommodating and friendly staff!\\...   \n",
       "9996        9996  Title: comfortable, friendly, clean, professio...   \n",
       "9997        9997  Title: Great location\\nReview text: This Hampt...   \n",
       "9998        9998  Title: Great Atmosphere!\\nReview text: Awesome...   \n",
       "9999        9999  Title: Health care appointments\\nReview text: ...   \n",
       "\n",
       "               document_id                                      document_name  \n",
       "0     AWE2FvX5RxPSIh2RscTK       Best Western Plus Hotel AWE2FvX5RxPSIh2RscTK  \n",
       "1     AVwcj_OhkufWRAb5wi9T  Clean rooms at solid rates in the heart of Car...  \n",
       "2     AVwcj_OhkufWRAb5wi9T                      Business AVwcj_OhkufWRAb5wi9T  \n",
       "3     AVwcj_OhkufWRAb5wi9T                     Very good AVwcj_OhkufWRAb5wi9T  \n",
       "4     AVwcj_OhkufWRAb5wi9T  Low chance to come back here AVwcj_OhkufWRAb5wi9T  \n",
       "...                    ...                                                ...  \n",
       "9995  AVwdatg0ByjofQCxo5S5  Very accommodating and friendly staff! AVwdatg...  \n",
       "9996  AVwdatg0ByjofQCxo5S5  comfortable, friendly, clean, professional AVw...  \n",
       "9997  AVwdatg0ByjofQCxo5S5                Great location AVwdatg0ByjofQCxo5S5  \n",
       "9998  AV1thTgM3-Khe5l_OvT5             Great Atmosphere! AV1thTgM3-Khe5l_OvT5  \n",
       "9999  AV1tg9C7a4HuVbed8XA5      Health care appointments AV1tg9C7a4HuVbed8XA5  \n",
       "\n",
       "[10000 rows x 4 columns]"
      ]
     },
     "execution_count": 1,
     "metadata": {},
     "output_type": "execute_result"
    }
   ],
   "source": [
    "import os\n",
    "import pandas as pd\n",
    "from predibase import PredibaseClient\n",
    "from time import perf_counter\n",
    "\n",
    "df = pd.read_csv(\"s3://predibase-public-us-west-2/datasets/formatted_hotel_reviews.csv\")\n",
    "df"
   ]
  },
  {
   "cell_type": "code",
   "execution_count": 2,
   "id": "dbc4c7cd",
   "metadata": {},
   "outputs": [
    {
     "name": "stdout",
     "output_type": "stream",
     "text": [
      "\n",
      "Title: Best Western Plus Hotel\n",
      "Review text: This hotel was nice and quiet. Did not know, there was train track near by. But it was only few train passed during our stay. Best Western changed hotel classification. The Plus category are not the same as before.\n",
      "Address: 5620 Calle Real\n",
      "Country: US\n",
      "City: Goleta\n",
      "Date: 2018-01-01T00:00:00.000Z\n"
     ]
    }
   ],
   "source": [
    "for _, row in df.iterrows():\n",
    "    print()\n",
    "    print(row[\"document_text\"])\n",
    "    break"
   ]
  },
  {
   "cell_type": "markdown",
   "id": "dc2fec52",
   "metadata": {},
   "source": [
    "# Information Extraction and Retrieval-Augmented Generation API"
   ]
  },
  {
   "cell_type": "code",
   "execution_count": 3,
   "id": "642e8a5f",
   "metadata": {},
   "outputs": [
    {
     "name": "stderr",
     "output_type": "stream",
     "text": [
      "/usr/local/Caskroom/miniforge/base/envs/predibase38/lib/python3.8/site-packages/tqdm/auto.py:22: TqdmWarning: IProgress not found. Please update jupyter and ipywidgets. See https://ipywidgets.readthedocs.io/en/stable/user_install.html\n",
      "  from .autonotebook import tqdm as notebook_tqdm\n"
     ]
    },
    {
     "name": "stdout",
     "output_type": "stream",
     "text": [
      "[2023-08-29 16:52:03,446] [INFO] [real_accelerator.py:133:get_accelerator] Setting ds_accelerator to cuda (auto detect)\n",
      "NOTE: Redirects are currently not supported in Windows or MacOs.\n",
      "Extension horovod.torch has not been built: /usr/local/Caskroom/miniforge/base/envs/predibase38/lib/python3.8/site-packages/horovod/torch/mpi_lib_v2.cpython-38-darwin.so not found\n",
      "If this is not expected, reinstall Horovod with HOROVOD_WITH_PYTORCH=1 to debug the build error.\n",
      "Warning! MPI libs are missing, but python applications are still available.\n"
     ]
    },
    {
     "data": {
      "text/html": [
       "<pre style=\"white-space:pre;overflow-x:auto;line-height:normal;font-family:Menlo,'DejaVu Sans Mono',consolas,'Courier New',monospace\"><span style=\"color: #000080; text-decoration-color: #000080; font-weight: bold\">Connected to Predibase as </span><span style=\"color: #800080; text-decoration-color: #800080; font-weight: bold\">User</span><span style=\"color: #000080; text-decoration-color: #000080; font-weight: bold\">(</span><span style=\"color: #808000; text-decoration-color: #808000; font-weight: bold\">id</span><span style=\"color: #000080; text-decoration-color: #000080; font-weight: bold\">=</span><span style=\"color: #ffff00; text-decoration-color: #ffff00\">d2899709</span><span style=\"color: #ffff00; text-decoration-color: #ffff00\">-4119-4305-866a-fe290279bf71</span><span style=\"color: #000080; text-decoration-color: #000080; font-weight: bold\">, </span>\n",
       "<span style=\"color: #808000; text-decoration-color: #808000; font-weight: bold\">username</span><span style=\"color: #000080; text-decoration-color: #000080; font-weight: bold\">=</span><span style=\"color: #800080; text-decoration-color: #800080; font-weight: bold\">wael</span><span style=\"color: #000080; text-decoration-color: #000080; font-weight: bold\">+ttt@predibase.com)</span>\n",
       "</pre>\n"
      ],
      "text/plain": [
       "\u001b[1;34mConnected to Predibase as \u001b[0m\u001b[1;35mUser\u001b[0m\u001b[1;34m(\u001b[0m\u001b[1;33mid\u001b[0m\u001b[1;34m=\u001b[0m\u001b[93md2899709\u001b[0m\u001b[93m-4119-4305-866a-fe290279bf71\u001b[0m\u001b[1;34m, \u001b[0m\n",
       "\u001b[1;33musername\u001b[0m\u001b[1;34m=\u001b[0m\u001b[1;35mwael\u001b[0m\u001b[1;34m+ttt@predibase.com\u001b[0m\u001b[1;34m)\u001b[0m\n"
      ]
     },
     "metadata": {},
     "output_type": "display_data"
    }
   ],
   "source": [
    "from info_extract import Corpus\n",
    "from info_extract.endpoints import get_llm_endpoint\n",
    "from info_extract.retrieval import get_retriever\n",
    "\n",
    "\n",
    "# number of documents to work with in the corpus\n",
    "num_documents = 10\n",
    "\n",
    "# chunks size in characters\n",
    "chunk_size = 2048\n",
    "\n",
    "# name of the corpus\n",
    "corpus_name = \"demo-corpus\"\n",
    "\n",
    "# instantiate the Predibase client\n",
    "pc = PredibaseClient(token=\"<YOUR PREDIBASE API TOKEN>\")\n",
    "\n",
    "# Using a Predibase LLM (e.g. llama-2-13b)\n",
    "llm_endpoint = get_llm_endpoint(model_provider=\"predibase\", model_name=\"llama-2-13b\", predibase_client=pc)\n",
    "\n",
    "# Use Predibase infrastructure for indexing and retrieval\n",
    "retriever = get_retriever(retrieval_provider=\"predibase\", index_name=f\"{corpus_name}-{chunk_size}\", predibase_client=pc, model_name=\"llama-2-13b\")\n",
    "\n",
    "# Create the corpus of documents and pass in the necessary resources (LLM and retriever)\n",
    "corpus = Corpus(df.head(num_documents), name=corpus_name, llm_endpoint=llm_endpoint, retriever=retriever)"
   ]
  },
  {
   "cell_type": "markdown",
   "id": "326437db",
   "metadata": {},
   "source": [
    "### Chunk the data\n",
    "The first step is to turn documents into smaller chunks of text."
   ]
  },
  {
   "cell_type": "code",
   "execution_count": 4,
   "id": "2a268466",
   "metadata": {},
   "outputs": [],
   "source": [
    "chunks = corpus.chunk(chunk_size)"
   ]
  },
  {
   "cell_type": "code",
   "execution_count": 5,
   "id": "59565c55",
   "metadata": {},
   "outputs": [
    {
     "data": {
      "text/html": [
       "<div>\n",
       "<style scoped>\n",
       "    .dataframe tbody tr th:only-of-type {\n",
       "        vertical-align: middle;\n",
       "    }\n",
       "\n",
       "    .dataframe tbody tr th {\n",
       "        vertical-align: top;\n",
       "    }\n",
       "\n",
       "    .dataframe thead th {\n",
       "        text-align: right;\n",
       "    }\n",
       "</style>\n",
       "<table border=\"1\" class=\"dataframe\">\n",
       "  <thead>\n",
       "    <tr style=\"text-align: right;\">\n",
       "      <th></th>\n",
       "      <th>chunk_id</th>\n",
       "      <th>chunk_text</th>\n",
       "      <th>document_id</th>\n",
       "    </tr>\n",
       "  </thead>\n",
       "  <tbody>\n",
       "    <tr>\n",
       "      <th>0</th>\n",
       "      <td>0</td>\n",
       "      <td>Title: Best Western Plus Hotel Review text: Th...</td>\n",
       "      <td>AWE2FvX5RxPSIh2RscTK</td>\n",
       "    </tr>\n",
       "    <tr>\n",
       "      <th>0</th>\n",
       "      <td>0</td>\n",
       "      <td>Title: Clean rooms at solid rates in the heart...</td>\n",
       "      <td>AVwcj_OhkufWRAb5wi9T</td>\n",
       "    </tr>\n",
       "    <tr>\n",
       "      <th>0</th>\n",
       "      <td>0</td>\n",
       "      <td>Title: Business Review text: Parking was horri...</td>\n",
       "      <td>AVwcj_OhkufWRAb5wi9T</td>\n",
       "    </tr>\n",
       "    <tr>\n",
       "      <th>0</th>\n",
       "      <td>0</td>\n",
       "      <td>Title: Very good Review text: Not cheap but ex...</td>\n",
       "      <td>AVwcj_OhkufWRAb5wi9T</td>\n",
       "    </tr>\n",
       "    <tr>\n",
       "      <th>0</th>\n",
       "      <td>0</td>\n",
       "      <td>Title: Low chance to come back here Review tex...</td>\n",
       "      <td>AVwcj_OhkufWRAb5wi9T</td>\n",
       "    </tr>\n",
       "    <tr>\n",
       "      <th>0</th>\n",
       "      <td>0</td>\n",
       "      <td>Title: Loved staying here Review text: This is...</td>\n",
       "      <td>AVweLARAByjofQCxv5vX</td>\n",
       "    </tr>\n",
       "    <tr>\n",
       "      <th>0</th>\n",
       "      <td>0</td>\n",
       "      <td>Title: Does not live up to its reputation Revi...</td>\n",
       "      <td>AVweLARAByjofQCxv5vX</td>\n",
       "    </tr>\n",
       "    <tr>\n",
       "      <th>0</th>\n",
       "      <td>0</td>\n",
       "      <td>Title: worst customer service ever Review text...</td>\n",
       "      <td>AV1thAoL3-Khe5l_Ott5</td>\n",
       "    </tr>\n",
       "    <tr>\n",
       "      <th>0</th>\n",
       "      <td>0</td>\n",
       "      <td>Title: Location Location Location Review text:...</td>\n",
       "      <td>AVz6h4Sb3D1zeR_xDHsu</td>\n",
       "    </tr>\n",
       "    <tr>\n",
       "      <th>0</th>\n",
       "      <td>0</td>\n",
       "      <td>Title: The worst place i've booked Review text...</td>\n",
       "      <td>AVwdo6WHByjofQCxrGaj</td>\n",
       "    </tr>\n",
       "  </tbody>\n",
       "</table>\n",
       "</div>"
      ],
      "text/plain": [
       "   chunk_id                                         chunk_text  \\\n",
       "0         0  Title: Best Western Plus Hotel Review text: Th...   \n",
       "0         0  Title: Clean rooms at solid rates in the heart...   \n",
       "0         0  Title: Business Review text: Parking was horri...   \n",
       "0         0  Title: Very good Review text: Not cheap but ex...   \n",
       "0         0  Title: Low chance to come back here Review tex...   \n",
       "0         0  Title: Loved staying here Review text: This is...   \n",
       "0         0  Title: Does not live up to its reputation Revi...   \n",
       "0         0  Title: worst customer service ever Review text...   \n",
       "0         0  Title: Location Location Location Review text:...   \n",
       "0         0  Title: The worst place i've booked Review text...   \n",
       "\n",
       "            document_id  \n",
       "0  AWE2FvX5RxPSIh2RscTK  \n",
       "0  AVwcj_OhkufWRAb5wi9T  \n",
       "0  AVwcj_OhkufWRAb5wi9T  \n",
       "0  AVwcj_OhkufWRAb5wi9T  \n",
       "0  AVwcj_OhkufWRAb5wi9T  \n",
       "0  AVweLARAByjofQCxv5vX  \n",
       "0  AVweLARAByjofQCxv5vX  \n",
       "0  AV1thAoL3-Khe5l_Ott5  \n",
       "0  AVz6h4Sb3D1zeR_xDHsu  \n",
       "0  AVwdo6WHByjofQCxrGaj  "
      ]
     },
     "execution_count": 5,
     "metadata": {},
     "output_type": "execute_result"
    }
   ],
   "source": [
    "chunks.df"
   ]
  },
  {
   "cell_type": "markdown",
   "id": "7a0a488b",
   "metadata": {},
   "source": [
    "## 1. Extract information from all documents\n",
    "- Define a `list` of questions/queries that you'd like to extract.\n",
    "- Note that this will run on all documents and will be slow. If you know that the information exists in a subset of the documents, either use RAG (next section) or create a new `Corpus` with a subset of the documents."
   ]
  },
  {
   "cell_type": "code",
   "execution_count": 7,
   "id": "fad01dfb",
   "metadata": {
    "scrolled": true
   },
   "outputs": [
    {
     "name": "stdout",
     "output_type": "stream",
     "text": [
      "took 29.20573787500001\n"
     ]
    }
   ],
   "source": [
    "start_t = perf_counter()\n",
    "extraction_result = corpus.extract(queries=[\"what is the address of the hotel?\"])\n",
    "print(f\"took {perf_counter() - start_t}\")"
   ]
  },
  {
   "cell_type": "markdown",
   "id": "5a3cc065",
   "metadata": {},
   "source": [
    "### Examine the results of the extraction"
   ]
  },
  {
   "cell_type": "code",
   "execution_count": 8,
   "id": "d3617128",
   "metadata": {},
   "outputs": [
    {
     "data": {
      "text/html": [
       "<div>\n",
       "<style scoped>\n",
       "    .dataframe tbody tr th:only-of-type {\n",
       "        vertical-align: middle;\n",
       "    }\n",
       "\n",
       "    .dataframe tbody tr th {\n",
       "        vertical-align: top;\n",
       "    }\n",
       "\n",
       "    .dataframe thead th {\n",
       "        text-align: right;\n",
       "    }\n",
       "</style>\n",
       "<table border=\"1\" class=\"dataframe\">\n",
       "  <thead>\n",
       "    <tr style=\"text-align: right;\">\n",
       "      <th></th>\n",
       "      <th>document_id</th>\n",
       "      <th>query</th>\n",
       "      <th>answer</th>\n",
       "    </tr>\n",
       "  </thead>\n",
       "  <tbody>\n",
       "    <tr>\n",
       "      <th>0</th>\n",
       "      <td>AWE2FvX5RxPSIh2RscTK</td>\n",
       "      <td>what is the address of the hotel?</td>\n",
       "      <td>The address of the hotel is:\\n\\n5620 Calle Real</td>\n",
       "    </tr>\n",
       "    <tr>\n",
       "      <th>1</th>\n",
       "      <td>AVz6h4Sb3D1zeR_xDHsu</td>\n",
       "      <td>what is the address of the hotel?</td>\n",
       "      <td>The address of the hotel is:\\n\\n2240 Buena Vis...</td>\n",
       "    </tr>\n",
       "    <tr>\n",
       "      <th>2</th>\n",
       "      <td>AVwdo6WHByjofQCxrGaj</td>\n",
       "      <td>what is the address of the hotel?</td>\n",
       "      <td>The address of the hotel is:\\n\\n1107 N Main St</td>\n",
       "    </tr>\n",
       "    <tr>\n",
       "      <th>3</th>\n",
       "      <td>AVweLARAByjofQCxv5vX</td>\n",
       "      <td>what is the address of the hotel?</td>\n",
       "      <td>The address of the hotel is:\\n\\n167 W Main St.</td>\n",
       "    </tr>\n",
       "    <tr>\n",
       "      <th>4</th>\n",
       "      <td>AV1thAoL3-Khe5l_Ott5</td>\n",
       "      <td>what is the address of the hotel?</td>\n",
       "      <td>The address of the hotel is:\\n\\n115 W Steve Wa...</td>\n",
       "    </tr>\n",
       "    <tr>\n",
       "      <th>5</th>\n",
       "      <td>AVwcj_OhkufWRAb5wi9T</td>\n",
       "      <td>what is the address of the hotel?</td>\n",
       "      <td>The address of the hotel is:\\n\\n5th And San Ca...</td>\n",
       "    </tr>\n",
       "  </tbody>\n",
       "</table>\n",
       "</div>"
      ],
      "text/plain": [
       "            document_id                              query  \\\n",
       "0  AWE2FvX5RxPSIh2RscTK  what is the address of the hotel?   \n",
       "1  AVz6h4Sb3D1zeR_xDHsu  what is the address of the hotel?   \n",
       "2  AVwdo6WHByjofQCxrGaj  what is the address of the hotel?   \n",
       "3  AVweLARAByjofQCxv5vX  what is the address of the hotel?   \n",
       "4  AV1thAoL3-Khe5l_Ott5  what is the address of the hotel?   \n",
       "5  AVwcj_OhkufWRAb5wi9T  what is the address of the hotel?   \n",
       "\n",
       "                                              answer  \n",
       "0    The address of the hotel is:\\n\\n5620 Calle Real  \n",
       "1  The address of the hotel is:\\n\\n2240 Buena Vis...  \n",
       "2     The address of the hotel is:\\n\\n1107 N Main St  \n",
       "3     The address of the hotel is:\\n\\n167 W Main St.  \n",
       "4  The address of the hotel is:\\n\\n115 W Steve Wa...  \n",
       "5  The address of the hotel is:\\n\\n5th And San Ca...  "
      ]
     },
     "execution_count": 8,
     "metadata": {},
     "output_type": "execute_result"
    }
   ],
   "source": [
    "extraction_result.extractions"
   ]
  },
  {
   "cell_type": "code",
   "execution_count": 9,
   "id": "758ca608",
   "metadata": {},
   "outputs": [
    {
     "name": "stdout",
     "output_type": "stream",
     "text": [
      "----------\n",
      "The address of the hotel is:\n",
      "\n",
      "5620 Calle Real\n",
      "\n",
      "----------\n",
      "The address of the hotel is:\n",
      "\n",
      "2240 Buena Vista Rd.\n",
      "\n",
      "----------\n",
      "The address of the hotel is:\n",
      "\n",
      "1107 N Main St\n",
      "\n",
      "----------\n",
      "The address of the hotel is:\n",
      "\n",
      "167 W Main St.\n",
      "\n",
      "----------\n",
      "The address of the hotel is:\n",
      "\n",
      "115 W Steve Wariner Dr.\n",
      "\n",
      "----------\n",
      "The address of the hotel is:\n",
      "\n",
      "5th And San Carlos, PO Box 3574, Carmel by the Sea, US.\n",
      "\n"
     ]
    }
   ],
   "source": [
    "for _, row in extraction_result.extractions.iterrows():\n",
    "    print(10 * \"-\")\n",
    "    print(row[\"answer\"])\n",
    "    print()"
   ]
  },
  {
   "cell_type": "markdown",
   "id": "f14a1f4b",
   "metadata": {},
   "source": [
    "### See which chunks the answer is coming from\n",
    "Specify which (`query`, `document_id`) pair to look at their attributions."
   ]
  },
  {
   "cell_type": "code",
   "execution_count": 10,
   "id": "c48b7ca9",
   "metadata": {},
   "outputs": [],
   "source": [
    "query = \"what is the address of the hotel?\"\n",
    "document_id = \"AWE2FvX5RxPSIh2RscTK\"\n",
    "\n",
    "relevant_chunks = extraction_result.get_attribution(query=query, document_id=document_id)"
   ]
  },
  {
   "cell_type": "code",
   "execution_count": 11,
   "id": "5fd5e5d7",
   "metadata": {},
   "outputs": [
    {
     "name": "stdout",
     "output_type": "stream",
     "text": [
      "[<info_extract.info_extract.Chunk object at 0x7ff6e8036e20>]\n"
     ]
    }
   ],
   "source": [
    "print(relevant_chunks)"
   ]
  },
  {
   "cell_type": "code",
   "execution_count": 12,
   "id": "995a7e97",
   "metadata": {},
   "outputs": [
    {
     "name": "stdout",
     "output_type": "stream",
     "text": [
      "chunk.document_id AWE2FvX5RxPSIh2RscTK\n",
      "chunk.chunk_id 0\n",
      "\n",
      "chunk.chunk_text:\n",
      " Title: Best Western Plus Hotel Review text: This hotel was nice and quiet. Did not know, there was train track near by. But it was only few train passed during our stay. Best Western changed hotel classification. The Plus category are not the same as before. Address: 5620 Calle Real Country: US City: Goleta Date: 2018-01-01T00:00:00.000Z\n",
      "\n",
      "\n",
      "\n"
     ]
    }
   ],
   "source": [
    "for chunk in relevant_chunks:\n",
    "    print(\"chunk.document_id\", chunk.document_id)\n",
    "    print(\"chunk.chunk_id\", chunk.chunk_id)\n",
    "    print()\n",
    "    print(\"chunk.chunk_text:\\n\", chunk.chunk_text)\n",
    "    print(\"\\n\\n\")"
   ]
  },
  {
   "cell_type": "markdown",
   "id": "219afcda",
   "metadata": {
    "scrolled": true
   },
   "source": [
    "## 2. Retrieval-Augmented Generation\n",
    "If the answer you're looking for is in one or a couple of documents, RAG is a more suitable (and faster) approach than extraction. Here's what's happening under the hood:\n",
    "1. Create an index over the chunked documents.\n",
    "2. Pass in a query to the index. This will trigger:\n",
    "    - Retrieval of the `K` most relevant chunks.\n",
    "    - Combine these chunks to get a final answer."
   ]
  },
  {
   "cell_type": "markdown",
   "id": "5c6190a5",
   "metadata": {},
   "source": [
    "### If an index hasn't been created, create one"
   ]
  },
  {
   "cell_type": "code",
   "execution_count": 13,
   "id": "7c87c5e1",
   "metadata": {},
   "outputs": [
    {
     "name": "stderr",
     "output_type": "stream",
     "text": [
      "/usr/local/Caskroom/miniforge/base/envs/predibase38/lib/python3.8/site-packages/dataclasses_json/core.py:171: RuntimeWarning: `NoneType` object value of non-optional type _dataset_profile detected when decoding Dataset.\n",
      "  warnings.warn(f\"`NoneType` object {warning}.\", RuntimeWarning)\n"
     ]
    }
   ],
   "source": [
    "corpus.index()"
   ]
  },
  {
   "cell_type": "markdown",
   "id": "8d5d4530",
   "metadata": {},
   "source": [
    "### Query the corpus"
   ]
  },
  {
   "cell_type": "code",
   "execution_count": 14,
   "id": "28780001",
   "metadata": {},
   "outputs": [
    {
     "name": "stderr",
     "output_type": "stream",
     "text": [
      "/usr/local/Caskroom/miniforge/base/envs/predibase38/lib/python3.8/site-packages/dataclasses_json/core.py:171: RuntimeWarning: `NoneType` object value of non-optional type _dataset_profile detected when decoding Dataset.\n",
      "  warnings.warn(f\"`NoneType` object {warning}.\", RuntimeWarning)\n"
     ]
    }
   ],
   "source": [
    "question = \"which hotel has train track noise?\"\n",
    "\n",
    "start_t = perf_counter()\n",
    "rag_response = corpus.query(question)\n",
    "duration = perf_counter() - start_t"
   ]
  },
  {
   "cell_type": "markdown",
   "id": "f00be866",
   "metadata": {},
   "source": [
    "### Print the answer"
   ]
  },
  {
   "cell_type": "code",
   "execution_count": 15,
   "id": "c1995ea1",
   "metadata": {},
   "outputs": [
    {
     "name": "stdout",
     "output_type": "stream",
     "text": [
      "RAG answer\n",
      "Hello! Based on the information provided, the answer to your question is:\n",
      "\n",
      "The Best Western Plus hotel has train track noise.\n",
      "\n",
      "This information is provided in answer A1: MoreMore Address.\n",
      "\n",
      "Duration: 36.13179716600001 seconds\n"
     ]
    }
   ],
   "source": [
    "print(f\"RAG answer\\n{rag_response.answer}\\n\\nDuration: {duration} seconds\")"
   ]
  },
  {
   "cell_type": "markdown",
   "id": "9986e607",
   "metadata": {},
   "source": [
    "### Print the relevant chunks"
   ]
  },
  {
   "cell_type": "code",
   "execution_count": 16,
   "id": "ecce38c6",
   "metadata": {},
   "outputs": [
    {
     "data": {
      "text/plain": [
       "2"
      ]
     },
     "execution_count": 16,
     "metadata": {},
     "output_type": "execute_result"
    }
   ],
   "source": [
    "len(rag_response.chunk_answers)"
   ]
  },
  {
   "cell_type": "code",
   "execution_count": 17,
   "id": "bae0b7ce",
   "metadata": {},
   "outputs": [
    {
     "name": "stdout",
     "output_type": "stream",
     "text": [
      "Title: Location Location Location Review text: MoreMore Address: 2240 Buena Vista Rd Country: US City: Lexington Date: 2017-06-15T00:00:00.000Z\n",
      "answer: A1: MoreMore Address.\n",
      "\n",
      "\n",
      "------\n",
      "Title: Best Western Plus Hotel Review text: This hotel was nice and quiet. Did not know, there was train track near by. But it was only few train passed during our stay. Best Western changed hotel classification. The Plus category are not the same as before. Address: 5620 Calle Real Country: US City: Goleta Date: 2018-01-01T00:00:00.000Z\n",
      "answer: A1: The hotel with train track noise is the Best Western Plus hotel.\n",
      "\n",
      "\n",
      "------\n"
     ]
    }
   ],
   "source": [
    "for chunk in rag_response.chunk_answers:\n",
    "    print(chunk.chunk_text)\n",
    "    print(\"answer:\", chunk.answer)\n",
    "    print(\"\\n\\n------\")"
   ]
  },
  {
   "cell_type": "code",
   "execution_count": 18,
   "id": "8d59aa83",
   "metadata": {},
   "outputs": [
    {
     "name": "stdout",
     "output_type": "stream",
     "text": [
      "ChunkExtractionResult(document_id='AVz6h4Sb3D1zeR_xDHsu', chunk_id=0, chunk_text='Title: Location Location Location Review text: MoreMore Address: 2240 Buena Vista Rd Country: US City: Lexington Date: 2017-06-15T00:00:00.000Z', query='which hotel has train track noise?', answer='A1: MoreMore Address.', is_correct=True)\n"
     ]
    }
   ],
   "source": [
    "# as an example\n",
    "print(rag_response.chunk_answers[0])"
   ]
  },
  {
   "cell_type": "code",
   "execution_count": null,
   "id": "59e04a1d",
   "metadata": {},
   "outputs": [],
   "source": []
  }
 ],
 "metadata": {
  "kernelspec": {
   "display_name": "predibase38",
   "language": "python",
   "name": "predibase38"
  },
  "language_info": {
   "codemirror_mode": {
    "name": "ipython",
    "version": 3
   },
   "file_extension": ".py",
   "mimetype": "text/x-python",
   "name": "python",
   "nbconvert_exporter": "python",
   "pygments_lexer": "ipython3",
   "version": "3.8.16"
  }
 },
 "nbformat": 4,
 "nbformat_minor": 5
}
