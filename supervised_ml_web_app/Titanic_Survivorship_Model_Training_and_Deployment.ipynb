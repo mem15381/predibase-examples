{
  "nbformat": 4,
  "nbformat_minor": 0,
  "metadata": {
    "colab": {
      "provenance": []
    },
    "kernelspec": {
      "name": "python3",
      "display_name": "Python 3"
    },
    "language_info": {
      "name": "python"
    },
    "widgets": {
      "application/vnd.jupyter.widget-state+json": {
        "3ea1b877b548443c9553a9abd749252f": {
          "model_module": "@jupyter-widgets/output",
          "model_name": "OutputModel",
          "model_module_version": "1.0.0",
          "state": {
            "_dom_classes": [],
            "_model_module": "@jupyter-widgets/output",
            "_model_module_version": "1.0.0",
            "_model_name": "OutputModel",
            "_view_count": null,
            "_view_module": "@jupyter-widgets/output",
            "_view_module_version": "1.0.0",
            "_view_name": "OutputView",
            "layout": "IPY_MODEL_9307f22574ce4e91a59906e3de86438e",
            "msg_id": "",
            "outputs": [
              {
                "output_type": "display_data",
                "data": {
                  "text/plain": "\u001b[32m▁▁▁▁▁▁▁▁▁▁▁▁▁███████\u001b[0m Create Deployment...\n",
                  "text/html": "<pre style=\"white-space:pre;overflow-x:auto;line-height:normal;font-family:Menlo,'DejaVu Sans Mono',consolas,'Courier New',monospace\"><span style=\"color: #008000; text-decoration-color: #008000\">▁▁▁▁▁▁▁▁▁▁▁▁▁███████</span> Create Deployment...\n</pre>\n"
                },
                "metadata": {}
              }
            ]
          }
        },
        "9307f22574ce4e91a59906e3de86438e": {
          "model_module": "@jupyter-widgets/base",
          "model_name": "LayoutModel",
          "model_module_version": "1.2.0",
          "state": {
            "_model_module": "@jupyter-widgets/base",
            "_model_module_version": "1.2.0",
            "_model_name": "LayoutModel",
            "_view_count": null,
            "_view_module": "@jupyter-widgets/base",
            "_view_module_version": "1.2.0",
            "_view_name": "LayoutView",
            "align_content": null,
            "align_items": null,
            "align_self": null,
            "border": null,
            "bottom": null,
            "display": null,
            "flex": null,
            "flex_flow": null,
            "grid_area": null,
            "grid_auto_columns": null,
            "grid_auto_flow": null,
            "grid_auto_rows": null,
            "grid_column": null,
            "grid_gap": null,
            "grid_row": null,
            "grid_template_areas": null,
            "grid_template_columns": null,
            "grid_template_rows": null,
            "height": null,
            "justify_content": null,
            "justify_items": null,
            "left": null,
            "margin": null,
            "max_height": null,
            "max_width": null,
            "min_height": null,
            "min_width": null,
            "object_fit": null,
            "object_position": null,
            "order": null,
            "overflow": null,
            "overflow_x": null,
            "overflow_y": null,
            "padding": null,
            "right": null,
            "top": null,
            "visibility": null,
            "width": null
          }
        }
      }
    }
  },
  "cells": [
    {
      "cell_type": "markdown",
      "source": [
        "# Titanic Survivorship: Model Training and Deployment"
      ],
      "metadata": {
        "id": "Qqw4DCb28bKk"
      }
    },
    {
      "cell_type": "markdown",
      "source": [
        "This notebook accompanies the longer written tutorial in the README. If you get stuck on any of the steps, please refer to the README or the [Supervised ML Quickstart](https://docs.predibase.com/user-guide/home/quickstart-supervised-ml)."
      ],
      "metadata": {
        "id": "YQRV1a0Q8oB5"
      }
    },
    {
      "cell_type": "markdown",
      "source": [
        "Install `predibase` from pypi."
      ],
      "metadata": {
        "id": "HnneP2vq9PhP"
      }
    },
    {
      "cell_type": "code",
      "source": [
        "!pip install predibase --quiet"
      ],
      "metadata": {
        "id": "tHl89Q_PYVW1"
      },
      "execution_count": 2,
      "outputs": []
    },
    {
      "cell_type": "markdown",
      "source": [
        "Initialize a `PredibaseClient` with your Predibase API token."
      ],
      "metadata": {
        "id": "GsLsNcuq8uOa"
      }
    },
    {
      "cell_type": "code",
      "source": [
        "from predibase import PredibaseClient\n",
        "import os\n",
        "\n",
        "pc = PredibaseClient(token=\"PREDIBASE API TOKEN\")"
      ],
      "metadata": {
        "colab": {
          "base_uri": "https://localhost:8080/",
          "height": 33
        },
        "id": "HWjOS513YXSg",
        "outputId": "195bed72-976c-4450-9c07-e13d482f3d92"
      },
      "execution_count": 3,
      "outputs": [
        {
          "output_type": "display_data",
          "data": {
            "text/plain": [
              "\u001b[1;34mConnected to Predibase as \u001b[0m\u001b[1;35mUser\u001b[0m\u001b[1;34m(\u001b[0m\u001b[1;33mid\u001b[0m\u001b[1;34m=\u001b[0m\u001b[93m82b4375a\u001b[0m\u001b[93m-c1f6-4f64-8cf0-d96334cfd90e\u001b[0m\u001b[1;34m, \u001b[0m\u001b[1;33musername\u001b[0m\u001b[1;34m=\u001b[0m\u001b[1;35mjustin3\u001b[0m\u001b[1;34m)\u001b[0m\n"
            ],
            "text/html": [
              "<pre style=\"white-space:pre;overflow-x:auto;line-height:normal;font-family:Menlo,'DejaVu Sans Mono',consolas,'Courier New',monospace\"><span style=\"color: #000080; text-decoration-color: #000080; font-weight: bold\">Connected to Predibase as </span><span style=\"color: #800080; text-decoration-color: #800080; font-weight: bold\">User</span><span style=\"color: #000080; text-decoration-color: #000080; font-weight: bold\">(</span><span style=\"color: #808000; text-decoration-color: #808000; font-weight: bold\">id</span><span style=\"color: #000080; text-decoration-color: #000080; font-weight: bold\">=</span><span style=\"color: #ffff00; text-decoration-color: #ffff00\">82b4375a</span><span style=\"color: #ffff00; text-decoration-color: #ffff00\">-c1f6-4f64-8cf0-d96334cfd90e</span><span style=\"color: #000080; text-decoration-color: #000080; font-weight: bold\">, </span><span style=\"color: #808000; text-decoration-color: #808000; font-weight: bold\">username</span><span style=\"color: #000080; text-decoration-color: #000080; font-weight: bold\">=</span><span style=\"color: #800080; text-decoration-color: #800080; font-weight: bold\">justin3</span><span style=\"color: #000080; text-decoration-color: #000080; font-weight: bold\">)</span>\n",
              "</pre>\n"
            ]
          },
          "metadata": {}
        }
      ]
    },
    {
      "cell_type": "markdown",
      "source": [
        "Download titanic data from the official [titanic kaggle competition](https://www.kaggle.com/competitions/titanic). You will need to make an account and accept the rules of the competition.\n",
        "\n",
        "Copy the training data to your local directory and upload it to Predibase."
      ],
      "metadata": {
        "id": "RjNyKc-x9bC3"
      }
    },
    {
      "cell_type": "code",
      "source": [
        "titanic_dataset = pc.upload_file(\"train.csv\", \"Titanic\")"
      ],
      "metadata": {
        "id": "gR-_hsVad1fJ"
      },
      "execution_count": 4,
      "outputs": []
    },
    {
      "cell_type": "markdown",
      "source": [
        "Define a model config to describe the machine learning model you would like to train. Learn more about [declarative machine learning systems](https://ludwig.ai/latest/user_guide/what_is_ludwig/#introduction)."
      ],
      "metadata": {
        "id": "NlB1toJf9vf4"
      }
    },
    {
      "cell_type": "code",
      "source": [
        "import yaml\n",
        "\n",
        "config = yaml.safe_load(\n",
        "    \"\"\"\n",
        "input_features:\n",
        "    - name: Pclass\n",
        "      type: category\n",
        "    - name: Sex\n",
        "      type: category\n",
        "    - name: Age\n",
        "      type: number\n",
        "      preprocessing:\n",
        "          missing_value_strategy: fill_with_mean\n",
        "    - name: SibSp\n",
        "      type: number\n",
        "    - name: Parch\n",
        "      type: number\n",
        "    - name: Fare\n",
        "      type: number\n",
        "      preprocessing:\n",
        "          missing_value_strategy: fill_with_mean\n",
        "    - name: Embarked\n",
        "      type: category\n",
        "\n",
        "output_features:\n",
        "    - name: Survived\n",
        "      type: binary\n",
        "\n",
        "\"\"\"\n",
        ")"
      ],
      "metadata": {
        "id": "WgcnZBcctfj_"
      },
      "execution_count": 5,
      "outputs": []
    },
    {
      "cell_type": "markdown",
      "source": [
        "Start model training. This should take about 10 minutes."
      ],
      "metadata": {
        "id": "9SABrgTW-Jtw"
      }
    },
    {
      "cell_type": "code",
      "source": [
        "titanic_model = pc.create_model(\n",
        "    repository_name=\"Titanic for Justin\",\n",
        "    dataset=titanic_dataset,\n",
        "    config=config,\n",
        "    repo_description=\"Predict titanic survivorship\",\n",
        "    model_description=\"Basic defaults\"\n",
        ")"
      ],
      "metadata": {
        "colab": {
          "base_uri": "https://localhost:8080/",
          "height": 65
        },
        "id": "boS-ZgrxyaHh",
        "outputId": "38b64fc2-3881-4c58-d618-324ca19eeb6d"
      },
      "execution_count": 8,
      "outputs": [
        {
          "output_type": "display_data",
          "data": {
            "text/plain": [
              "\u001b[1;34mModel repository Titanic for Justin already exists and new models will be added to it.\u001b[0m\n"
            ],
            "text/html": [
              "<pre style=\"white-space:pre;overflow-x:auto;line-height:normal;font-family:Menlo,'DejaVu Sans Mono',consolas,'Courier New',monospace\"><span style=\"color: #000080; text-decoration-color: #000080; font-weight: bold\">Model repository Titanic for Justin already exists and new models will be added to it.</span>\n",
              "</pre>\n"
            ]
          },
          "metadata": {}
        },
        {
          "output_type": "display_data",
          "data": {
            "text/plain": [
              "\u001b[1;34mTraining model version \u001b[0m\u001b[1;36m1633\u001b[0m\u001b[1;34m for model repository \u001b[0m\u001b[1;34m<\u001b[0m\u001b[1;95mTitanic\u001b[0m\u001b[1;39m for Justin\u001b[0m\u001b[1;34m>\u001b[0m\u001b[1;33m...\u001b[0m\n"
            ],
            "text/html": [
              "<pre style=\"white-space:pre;overflow-x:auto;line-height:normal;font-family:Menlo,'DejaVu Sans Mono',consolas,'Courier New',monospace\"><span style=\"color: #000080; text-decoration-color: #000080; font-weight: bold\">Training model version </span><span style=\"color: #008080; text-decoration-color: #008080; font-weight: bold\">1633</span><span style=\"color: #000080; text-decoration-color: #000080; font-weight: bold\"> for model repository &lt;</span><span style=\"color: #ff00ff; text-decoration-color: #ff00ff; font-weight: bold\">Titanic</span><span style=\"color: #000000; text-decoration-color: #000000; font-weight: bold\"> for Justin</span><span style=\"color: #000080; text-decoration-color: #000080; font-weight: bold\">&gt;</span><span style=\"color: #808000; text-decoration-color: #808000; font-weight: bold\">...</span>\n",
              "</pre>\n"
            ]
          },
          "metadata": {}
        },
        {
          "output_type": "display_data",
          "data": {
            "text/plain": [
              "\u001b[1;34mCheck Status of Model Training Here: \u001b[0m\u001b]8;id=127184;https://app.predibase.com/models/version/3854\u001b\\\u001b[4;94mhttps://app.predibase.com/models/version/3854\u001b[0m\u001b]8;;\u001b\\\n"
            ],
            "text/html": [
              "<pre style=\"white-space:pre;overflow-x:auto;line-height:normal;font-family:Menlo,'DejaVu Sans Mono',consolas,'Courier New',monospace\"><span style=\"color: #000080; text-decoration-color: #000080; font-weight: bold\">Check Status of Model Training Here: </span><a href=\"https://app.predibase.com/models/version/3854\" target=\"_blank\"><span style=\"color: #0000ff; text-decoration-color: #0000ff; text-decoration: underline\">https://app.predibase.com/models/version/3854</span></a>\n",
              "</pre>\n"
            ]
          },
          "metadata": {}
        }
      ]
    },
    {
      "cell_type": "markdown",
      "source": [
        "Deploy the model to production."
      ],
      "metadata": {
        "id": "T_g5j_Zy-Nwe"
      }
    },
    {
      "cell_type": "code",
      "source": [
        "titanic_deployment = pc.create_deployment('titanic_justin', titanic_model)"
      ],
      "metadata": {
        "colab": {
          "base_uri": "https://localhost:8080/",
          "height": 35,
          "referenced_widgets": [
            "3ea1b877b548443c9553a9abd749252f",
            "9307f22574ce4e91a59906e3de86438e"
          ]
        },
        "id": "S0z-CT4qylRB",
        "outputId": "6d4ae45c-bf56-4b72-c2f3-c119a3932b61"
      },
      "execution_count": 10,
      "outputs": [
        {
          "output_type": "display_data",
          "data": {
            "text/plain": [
              "Output()"
            ],
            "application/vnd.jupyter.widget-view+json": {
              "version_major": 2,
              "version_minor": 0,
              "model_id": "3ea1b877b548443c9553a9abd749252f"
            }
          },
          "metadata": {}
        },
        {
          "output_type": "display_data",
          "data": {
            "text/plain": [
              "✅ Create Deployment\n"
            ],
            "text/html": [
              "<pre style=\"white-space:pre;overflow-x:auto;line-height:normal;font-family:Menlo,'DejaVu Sans Mono',consolas,'Courier New',monospace\">✅ Create Deployment\n",
              "</pre>\n"
            ]
          },
          "metadata": {}
        },
        {
          "output_type": "display_data",
          "data": {
            "text/plain": [],
            "text/html": [
              "<pre style=\"white-space:pre;overflow-x:auto;line-height:normal;font-family:Menlo,'DejaVu Sans Mono',consolas,'Courier New',monospace\"></pre>\n"
            ]
          },
          "metadata": {}
        }
      ]
    },
    {
      "cell_type": "markdown",
      "source": [
        "That's it! Refer back to the README to build the titanic web app (powered by Streamlit)."
      ],
      "metadata": {
        "id": "vOuxS8ez-Tdu"
      }
    }
  ]
}